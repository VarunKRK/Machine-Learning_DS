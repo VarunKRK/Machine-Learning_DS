{
 "cells": [
  {
   "cell_type": "code",
   "execution_count": 1,
   "metadata": {},
   "outputs": [
    {
     "data": {
      "text/plain": [
       "array([[-1.03329906, -0.27516211],\n",
       "       [ 0.44042838,  0.06679023],\n",
       "       [ 0.94779649,  0.08860588],\n",
       "       [ 1.61068613,  0.09894617],\n",
       "       [-2.39296675,  0.48584278],\n",
       "       [ 1.08777023, -0.55472709],\n",
       "       [-0.4024038 ,  0.51487152],\n",
       "       [-1.35827677, -1.07925618],\n",
       "       [-0.67535455, -1.63581886],\n",
       "       [ 1.15519859, -0.9307109 ],\n",
       "       [-1.06924019, -0.70786653],\n",
       "       [ 0.18425058,  0.13222221]])"
      ]
     },
     "execution_count": 1,
     "metadata": {},
     "output_type": "execute_result"
    }
   ],
   "source": [
    "import numpy as np\n",
    "X = np.random.randn(12, 2)\n",
    "X"
   ]
  },
  {
   "cell_type": "code",
   "execution_count": 2,
   "metadata": {},
   "outputs": [
    {
     "data": {
      "text/plain": [
       "array([0, 0, 0, 0, 0, 0, 1, 1, 1, 0, 1, 1])"
      ]
     },
     "execution_count": 2,
     "metadata": {},
     "output_type": "execute_result"
    }
   ],
   "source": [
    "y = np.random.randint(0, 2, 12)\n",
    "y"
   ]
  }
 ],
 "metadata": {
  "interpreter": {
   "hash": "8e98eea00a698c66ff9007bd5a8bf6209cdaa78d416205c57d24ef9296d8223a"
  },
  "kernelspec": {
   "display_name": "Python 3.7.11 ('strive')",
   "language": "python",
   "name": "python3"
  },
  "language_info": {
   "codemirror_mode": {
    "name": "ipython",
    "version": 3
   },
   "file_extension": ".py",
   "mimetype": "text/x-python",
   "name": "python",
   "nbconvert_exporter": "python",
   "pygments_lexer": "ipython3",
   "version": "3.7.11"
  },
  "orig_nbformat": 4
 },
 "nbformat": 4,
 "nbformat_minor": 2
}
